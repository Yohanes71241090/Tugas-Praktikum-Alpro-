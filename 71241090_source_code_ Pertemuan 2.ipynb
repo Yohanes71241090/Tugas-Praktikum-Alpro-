{
 "cells": [
  {
   "cell_type": "code",
   "execution_count": 79,
   "id": "03044fb2-a65b-4a27-8d29-a276dc658246",
   "metadata": {},
   "outputs": [
    {
     "name": "stdin",
     "output_type": "stream",
     "text": [
      "Masukkan Tinggi badan anda dalam cm:  171\n",
      "Masukkan Body Mass Index anda:  19.5\n"
     ]
    },
    {
     "name": "stdout",
     "output_type": "stream",
     "text": [
      "Berat badan anda sebesar 57.02 kg\n"
     ]
    }
   ],
   "source": [
    "#SOAL 1\n",
    "tinggi_badan = float(input(\"Masukkan Tinggi badan anda dalam cm: \"))\n",
    "BMI = float(input(\"Masukkan Body Mass Index (BMI) anda: \"))\n",
    "\n",
    "def menghitung(tinggi_badan, BMI) :\n",
    "    tinggi = tinggi_badan / 100\n",
    "    berat = BMI * tinggi**2\n",
    "    return berat\n",
    "\n",
    "berat = menghitung(tinggi_badan, BMI)\n",
    "\n",
    "print(f\"Berat badan anda sebesar {berat:.2f} kg\")"
   ]
  },
  {
   "cell_type": "code",
   "execution_count": 83,
   "id": "36b4d125-c29a-438a-8cbe-229ede444bb3",
   "metadata": {},
   "outputs": [
    {
     "name": "stdin",
     "output_type": "stream",
     "text": [
      "Masukkan nilai x :  90.6\n"
     ]
    },
    {
     "name": "stdout",
     "output_type": "stream",
     "text": [
      "hasil x nya adalah 1291.06\n"
     ]
    }
   ],
   "source": [
    "#SOAL 2\n",
    "\n",
    "a = float(input(\"Masukkan nilai x : \"))\n",
    "\n",
    "def menghitung(x) :\n",
    "    f = 2*(x)**3 + 2*x + 15/x\n",
    "    return f\n",
    "\n",
    "f = menghitung(x)\n",
    "\n",
    "print(f\"hasil x nya adalah {f:.2f}\")"
   ]
  },
  {
   "cell_type": "code",
   "execution_count": 65,
   "id": "2f367540-a1a2-4c51-8d53-efe03430d0c5",
   "metadata": {},
   "outputs": [
    {
     "name": "stdin",
     "output_type": "stream",
     "text": [
      "Masukkan gaji yang anda inginkan:  100000\n",
      "berapa jam anda berkerja dalam 1 minggu:  5\n"
     ]
    },
    {
     "name": "stdout",
     "output_type": "stream",
     "text": [
      "Pendapatan Budi selama libur musim panas sebelum melakukan pembayaran pajak adalah 2500000\n",
      "Pendapatan Budi selama libur musim panas sesudah melakukan pembayaran pajak adalah 2150000.0\n",
      "Jumlah uang yang akan Budi habiskan untuk membeli pakaian dan aksesoris adalah 215000.0\n",
      "jumlah uang yang akan Budi habiskan untuk membeli alat tulis adalah 19350.0\n",
      "jumlah uang yang akan Budi sedekahkan adalah 478912.5\n",
      "jumlah uang yang akan diterima anak yatim adalah 143673.75\n",
      "jumlah uang yang akan diterima kaum dhuafa adalah 335238.75\n"
     ]
    }
   ],
   "source": [
    "#SOAL 3\n",
    "gaji_perjam = int(input(\"Masukkan gaji yang anda inginkan: \"))\n",
    "jumlah_jam_kerja = int(input(\"berapa jam anda berkerja dalam 1 minggu: \"))\n",
    "\n",
    "def pendapatan(gaji_perjam, jumlah_jam_kerja) :\n",
    "    #Untuk menghitung pendapatan Budi sebelum pajak dan sesudah pajak\n",
    "    belum_pajak = gaji_perjam *  jumlah_jam_kerja * 5\n",
    "    setelah_pajak = belum_pajak * 0.14\n",
    "    total = belum_pajak - setelah_pajak\n",
    "    #untuk menghitung pengeluaran Budi untuk membeli baju, aksesoris dan alat tulis\n",
    "    aksesoris = total * 0.10\n",
    "    total_2 = total - aksesoris\n",
    "    alat_tulis = total_2 * 0.01\n",
    "    total_3 = total_2 - alat_tulis\n",
    "    return belum_pajak, total, aksesoris, alat_tulis, total_3\n",
    "belum_pajak, total, aksesoris, alat_tulis, total_3 = pendapatan(gaji_perjam, jumlah_jam_kerja)\n",
    "\n",
    "def sedekah(gaji_perjam, jumlah_jam_kerja):\n",
    "    berbagi = total_3 * 0.25\n",
    "    anak_yatim = berbagi * 0.3\n",
    "    dhuafa = berbagi * 0.7\n",
    "    return berbagi, anak_yatim, dhuafa\n",
    "berbagi, anak_yatim, dhuafa = sedekah(gaji_perjam, jumlah_jam_kerja)\n",
    "\n",
    "print(f\"Pendapatan Budi selama libur musim panas sebelum melakukan pembayaran pajak adalah {belum_pajak}\")\n",
    "print(f\"Pendapatan Budi selama libur musim panas sesudah melakukan pembayaran pajak adalah {total}\")\n",
    "print(f\"Jumlah uang yang akan Budi habiskan untuk membeli pakaian dan aksesoris adalah {aksesoris}\")\n",
    "print(f\"jumlah uang yang akan Budi habiskan untuk membeli alat tulis adalah {alat_tulis}\")\n",
    "print(f\"jumlah uang yang akan Budi sedekahkan adalah {berbagi}\")\n",
    "print(f\"jumlah uang yang akan diterima anak yatim adalah {anak_yatim}\")\n",
    "print(f\"jumlah uang yang akan diterima kaum dhuafa adalah {dhuafa}\")"
   ]
  }
 ],
 "metadata": {
  "kernelspec": {
   "display_name": "Python [conda env:base] *",
   "language": "python",
   "name": "conda-base-py"
  },
  "language_info": {
   "codemirror_mode": {
    "name": "ipython",
    "version": 3
   },
   "file_extension": ".py",
   "mimetype": "text/x-python",
   "name": "python",
   "nbconvert_exporter": "python",
   "pygments_lexer": "ipython3",
   "version": "3.12.7"
  }
 },
 "nbformat": 4,
 "nbformat_minor": 5
}
