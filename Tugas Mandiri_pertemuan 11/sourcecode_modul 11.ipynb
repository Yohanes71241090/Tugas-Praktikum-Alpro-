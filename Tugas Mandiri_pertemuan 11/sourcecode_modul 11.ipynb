{
 "cells": [
  {
   "cell_type": "code",
   "execution_count": 1,
   "id": "cf585017-29b2-4f7f-aa83-f51438e160c4",
   "metadata": {},
   "outputs": [
    {
     "name": "stdout",
     "output_type": "stream",
     "text": [
      "[6, 5, 4]\n",
      "[6, 5, 4]\n",
      "[30, 25, 20]\n",
      "[-1, -2, -3]\n",
      "[-10, -11, -15]\n"
     ]
    }
   ],
   "source": [
    "#SOAL 1\n",
    "def bil_tbk(bilangan):\n",
    "    x =[]\n",
    "\n",
    "    for i in sorted(bilangan, reverse=True):\n",
    "        if len(x) < 3:\n",
    "            x.append(i)\n",
    "     \n",
    "    print(x)\n",
    "        \n",
    "\n",
    "bil_tbk([1,6,5,2,3,4])\n",
    "bil_tbk([1,2,3,4,5,6])\n",
    "bil_tbk([10, 20, 15, 30, 5, 25])\n",
    "bil_tbk([-5, -1, -10, -3, -2])\n",
    "bil_tbk([-10, -20, -15, -11, -30])"
   ]
  },
  {
   "cell_type": "code",
   "execution_count": null,
   "id": "4e208015-939f-40cd-b274-cd9daba5c204",
   "metadata": {},
   "outputs": [],
   "source": [
    "#SOAL 2\n",
    "def input_done():\n",
    "    hasilnya = []\n",
    "    while True:\n",
    "        x = input(\"Masukkan Anggka (ketik 'done' untuk berhenti): \").strip().lower()\n",
    "\n",
    "        if x == \"done\":\n",
    "            break\n",
    "        \n",
    "        angka = float(x)\n",
    "        hasilnya.append(angka)\n",
    "    \n",
    "    rata_rata = sum(hasilnya) / len(hasilnya)\n",
    "    print(f\"Rata-ratanya adalah: {rata_rata:.2f}\")\n",
    "\n",
    "input_done()"
   ]
  }
 ],
 "metadata": {
  "kernelspec": {
   "display_name": "Python [conda env:base] *",
   "language": "python",
   "name": "conda-base-py"
  },
  "language_info": {
   "codemirror_mode": {
    "name": "ipython",
    "version": 3
   },
   "file_extension": ".py",
   "mimetype": "text/x-python",
   "name": "python",
   "nbconvert_exporter": "python",
   "pygments_lexer": "ipython3",
   "version": "3.12.7"
  }
 },
 "nbformat": 4,
 "nbformat_minor": 5
}
