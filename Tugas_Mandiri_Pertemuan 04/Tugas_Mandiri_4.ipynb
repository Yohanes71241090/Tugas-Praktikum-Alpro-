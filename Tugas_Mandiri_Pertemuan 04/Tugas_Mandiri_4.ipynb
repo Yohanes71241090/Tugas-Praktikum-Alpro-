{
 "cells": [
  {
   "cell_type": "code",
   "execution_count": 57,
   "id": "ffed9541-c2b4-455c-8508-33de82935241",
   "metadata": {},
   "outputs": [
    {
     "name": "stdin",
     "output_type": "stream",
     "text": [
      "Masukkan angka 1:  a\n",
      "Masukkan angka ke 2:  b\n"
     ]
    },
    {
     "name": "stdout",
     "output_type": "stream",
     "text": [
      "Masukkan angka dalam bentuk integer!!!\n",
      "None\n"
     ]
    }
   ],
   "source": [
    "#SOAL 1 bagian 4.1\n",
    "\n",
    "a = (input(\"Masukkan angka 1: \")) \n",
    "b = (input(\"Masukkan angka ke 2: \"))\n",
    "\n",
    "def bolean(a, b):\n",
    "    try:\n",
    "        A = int(a)\n",
    "        B = int(b)\n",
    "        if A > B:\n",
    "            return True\n",
    "        elif B < B:\n",
    "            return True \n",
    "        elif A == B:\n",
    "            return True \n",
    "    except:\n",
    "        print(\"Masukkan angka dalam bentuk integer!!!\")\n",
    "\n",
    "print(bolean(a, b))"
   ]
  },
  {
   "cell_type": "code",
   "execution_count": 95,
   "id": "e5d8f6c8-a665-4d44-b1d5-6b19544d5516",
   "metadata": {},
   "outputs": [
    {
     "name": "stdin",
     "output_type": "stream",
     "text": [
      "Masukkan usia anda:  46\n"
     ]
    },
    {
     "name": "stdout",
     "output_type": "stream",
     "text": [
      "umur 46 termasuk kedalam kategori: Lansia\n"
     ]
    }
   ],
   "source": [
    "#SOAL 1 Bagian 4.2\n",
    "a = input(\"Masukkan usia anda: \")\n",
    "\n",
    "def usia(a):\n",
    "    try:\n",
    "        A = int(a)\n",
    "        if A <= 5:\n",
    "            return \"Balita\"\n",
    "        elif A <= 11:\n",
    "            return \"Kanak-kanak\"\n",
    "        elif A <= 25:\n",
    "            return \"Remaja\"\n",
    "        elif A <= 45:\n",
    "            return \"Dewasa\"\n",
    "        else:\n",
    "            return \"Lansia\"\n",
    "    except:\n",
    "        print(\"Masukkan usia dalam bentuk Integer!!!\")\n",
    "\n",
    "print(f\"umur {a} termasuk kedalam kategori: {usia(a)}\")"
   ]
  },
  {
   "cell_type": "code",
   "execution_count": 125,
   "id": "5588efb6-9db9-49ff-b675-ef6eeb8dad10",
   "metadata": {},
   "outputs": [
    {
     "name": "stdin",
     "output_type": "stream",
     "text": [
      "Masukkan usia anda:  2\n"
     ]
    },
    {
     "name": "stdout",
     "output_type": "stream",
     "text": [
      "umur 2 termasuk kedalam kategori: Balita\n"
     ]
    }
   ],
   "source": [
    "#SOAL 2 Bagian 4.2\n",
    "a = input(\"Masukkan usia anda: \")\n",
    "\n",
    "def usia(a):\n",
    "    try:\n",
    "        A = int(a)\n",
    "        penentu = \"Balita\" if A <= 5 else \"Kanak=kanak\" if A <= 11 else \"Remaja\" if A <= 25 else \"Dewasa\" if A <= 45 else \"Lansia\"\n",
    "        return penentu\n",
    "    except:\n",
    "        print(\"Masukkan usia dalam bentuk Integer!!!\")\n",
    "\n",
    "print(f\"umur {a} termasuk kedalam kategori: {usia(a)}\")"
   ]
  },
  {
   "cell_type": "code",
   "execution_count": 131,
   "id": "d1bba2b6-a5af-47ac-9a1f-e928febd96df",
   "metadata": {},
   "outputs": [
    {
     "name": "stdin",
     "output_type": "stream",
     "text": [
      "Masukkan bulan:  4\n"
     ]
    },
    {
     "name": "stdout",
     "output_type": "stream",
     "text": [
      "Pada bulan 4 jumlah hari yang dimiliki adalah 30\n"
     ]
    }
   ],
   "source": [
    "#SOAL 3 \n",
    "a = input(\"Masukkan bulan: \")\n",
    "\n",
    "def bulan(a):\n",
    "    try:\n",
    "        A = int(a)\n",
    "        if A == 1 or A == 3 or A == 5 or A == 7 or A == 8 or A == 10 or A == 12:\n",
    "            x = 31\n",
    "        elif A == 4 or A == 6 or A == 9 or A == 11:\n",
    "            x = 30\n",
    "        elif A == 2:\n",
    "            x = 28\n",
    "        return x\n",
    "    except:\n",
    "        print(\"Angka yang anda masukkan tidak valid!!!\")\n",
    "\n",
    "print(f\"Pada bulan {a} jumlah hari yang dimiliki adalah {bulan(a)}\")"
   ]
  },
  {
   "cell_type": "code",
   "execution_count": 187,
   "id": "229314a7-be83-4d82-babc-a24245d2521f",
   "metadata": {},
   "outputs": [
    {
     "name": "stdin",
     "output_type": "stream",
     "text": [
      "Masukkan sisi 1:  20\n",
      "Masukkan sisi 2:  21\n",
      "Masukkan sisi 3:  23\n"
     ]
    },
    {
     "name": "stdout",
     "output_type": "stream",
     "text": [
      "sisi 20, 21 dan 23 memiliki: Tidak ada yang sama\n"
     ]
    }
   ],
   "source": [
    "#SOAL 4\n",
    "a = input(\"Masukkan sisi 1: \")\n",
    "b = input(\"Masukkan sisi 2: \")\n",
    "c = input(\"Masukkan sisi 3: \")\n",
    "\n",
    "def sama_tidak(a, b, c):\n",
    "    try:\n",
    "        A = int(a) % 10\n",
    "        B = int(b) % 10\n",
    "        C = int(c) % 10\n",
    "        if A == B and A == C and B == C:\n",
    "            return \"3 sisi sama\"\n",
    "        elif A == B or A == C or B == C:\n",
    "            return \"2 sisi sama\"\n",
    "        else:\n",
    "            return\"Tidak ada yang sama\"\n",
    "    except:\n",
    "        print(\"Angka yang anda masukkan tidak valid!!!\")\n",
    "\n",
    "print(f\"sisi {a}, {b} dan {c} memiliki: {sama_tidak(a, b, c)}\")"
   ]
  },
  {
   "cell_type": "code",
   "execution_count": null,
   "id": "2971e1a1-acb1-4a29-a1c5-39842476d83a",
   "metadata": {},
   "outputs": [],
   "source": []
  }
 ],
 "metadata": {
  "kernelspec": {
   "display_name": "Python [conda env:base] *",
   "language": "python",
   "name": "conda-base-py"
  },
  "language_info": {
   "codemirror_mode": {
    "name": "ipython",
    "version": 3
   },
   "file_extension": ".py",
   "mimetype": "text/x-python",
   "name": "python",
   "nbconvert_exporter": "python",
   "pygments_lexer": "ipython3",
   "version": "3.12.7"
  }
 },
 "nbformat": 4,
 "nbformat_minor": 5
}
