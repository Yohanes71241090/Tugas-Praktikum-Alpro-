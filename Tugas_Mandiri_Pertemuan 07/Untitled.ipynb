{
 "cells": [
  {
   "cell_type": "code",
   "execution_count": 31,
   "id": "799b61d9-0df8-489e-9f78-29b75a038fb9",
   "metadata": {},
   "outputs": [
    {
     "name": "stdin",
     "output_type": "stream",
     "text": [
      "Masukkan n:  1\n"
     ]
    },
    {
     "name": "stdout",
     "output_type": "stream",
     "text": [
      "Tidak ada bilangan prima dibawah 2!!!\n"
     ]
    }
   ],
   "source": [
    "#SOAL 1\n",
    "a = int(input(\"Masukkan n: \"))\n",
    "\n",
    "def prima(a):\n",
    "    if a < 2:\n",
    "        print(\"Tidak ada bilangan prima dibawah 2!!!\")\n",
    "    else:\n",
    "        for i in range(a, 0, -1):\n",
    "            b = 0\n",
    "            for j in range(1, i + 1):\n",
    "                if i % j == 0:\n",
    "                    b += 1\n",
    "            if b == 2:\n",
    "                print(f\"Maka prima terdekat < {a} adalah {i}\")\n",
    "                return\n",
    "        \n",
    "prima(a)"
   ]
  },
  {
   "cell_type": "code",
   "execution_count": 17,
   "id": "917fe9f5-66ad-4882-b5c5-4aafe3c3073e",
   "metadata": {},
   "outputs": [
    {
     "name": "stdout",
     "output_type": "stream",
     "text": [
      "720 6 5 4 3 2 1 \n",
      "120 5 4 3 2 1 \n",
      "24 4 3 2 1 \n",
      "6 3 2 1 \n",
      "2 2 1 \n",
      "1 1 \n"
     ]
    }
   ],
   "source": [
    "#SOAL 2\n",
    "def dinamis(n):\n",
    "    for i in range(n, 0, -1):\n",
    "        hasil = 1\n",
    "        for j in range(1, i + 1):\n",
    "            hasil *= j\n",
    "        print(hasil, end=\" \")\n",
    "\n",
    "        while i > 0:\n",
    "            print(i, end=\" \")\n",
    "            i -= 1\n",
    "        print()\n",
    "\n",
    "dinamis(6)  "
   ]
  },
  {
   "cell_type": "code",
   "execution_count": 29,
   "id": "2ae60ed1-cc64-42cc-9bfc-29ce77f974e3",
   "metadata": {},
   "outputs": [
    {
     "name": "stdout",
     "output_type": "stream",
     "text": [
      "1 2 3 4 \n",
      "5 6 7 8 \n",
      "9 10 11 12 \n",
      "13 14 15 16 \n",
      "17 18 19 20 \n"
     ]
    }
   ],
   "source": [
    "#SOAL 3\n",
    "def soal_3(tinggi, lebar):\n",
    "    a = 1\n",
    "    for i in range(1, tinggi + 1):\n",
    "        for j in range(1, lebar + 1):\n",
    "            print(a,end=\" \")\n",
    "            a += 1\n",
    "        print()\n",
    "\n",
    "soal_3(5, 4)"
   ]
  },
  {
   "cell_type": "code",
   "execution_count": null,
   "id": "21499baa-31f1-442b-9aea-32a1904d9789",
   "metadata": {},
   "outputs": [],
   "source": []
  }
 ],
 "metadata": {
  "kernelspec": {
   "display_name": "Python [conda env:base] *",
   "language": "python",
   "name": "conda-base-py"
  },
  "language_info": {
   "codemirror_mode": {
    "name": "ipython",
    "version": 3
   },
   "file_extension": ".py",
   "mimetype": "text/x-python",
   "name": "python",
   "nbconvert_exporter": "python",
   "pygments_lexer": "ipython3",
   "version": "3.12.7"
  }
 },
 "nbformat": 4,
 "nbformat_minor": 5
}
