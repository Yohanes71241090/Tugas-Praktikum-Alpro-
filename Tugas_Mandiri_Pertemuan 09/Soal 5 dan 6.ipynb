{
 "cells": [
  {
   "cell_type": "code",
   "execution_count": 4,
   "id": "555da2f6-0f80-4961-9d1b-d42e3f5dafd0",
   "metadata": {},
   "outputs": [
    {
     "name": "stdout",
     "output_type": "stream",
     "text": [
      "Anagram\n",
      "Anagram\n",
      "Bukan anagram\n",
      "Bukan anagram\n"
     ]
    }
   ],
   "source": [
    "# SOAL 1\n",
    "def anagram(kata, kata2):\n",
    "    x = kata.lower()\n",
    "    y = kata2.lower()\n",
    "\n",
    "    if sorted(x) == sorted(y):\n",
    "        print(\"Anagram\")\n",
    "    else:\n",
    "        print(\"Bukan anagram\")\n",
    "\n",
    "\n",
    "anagram(\"Rasuk\", \"Kasur\")\n",
    "anagram(\"Sapu\", \"Pusa\")\n",
    "anagram(\"sapu\", \"saput\")\n",
    "anagram(\"sapu\", \"saput\")"
   ]
  },
  {
   "cell_type": "code",
   "execution_count": 10,
   "id": "a9a6c283-fbea-4dc0-9cf1-084afed94e44",
   "metadata": {},
   "outputs": [
    {
     "name": "stdout",
     "output_type": "stream",
     "text": [
      "Kata makan terdapat 3 buah\n",
      "Kata pizza terdapat 0 buah\n",
      "Kata pagi terdapat 1 buah\n",
      "Kata makan terdapat 3 buah\n",
      "Kata makan terdapat 3 buah\n"
     ]
    }
   ],
   "source": [
    "#SOAL 2\n",
    "import re\n",
    "def jumalh_kata(kalimat, kalimat2):\n",
    "    x = kalimat.lower()\n",
    "    y = kalimat2.lower()\n",
    "    z = re.sub(r'[^\\w\\s]', '', x)\n",
    "    a = z.split()\n",
    "    hitung = a.count(y)\n",
    "\n",
    "    print(f\"Kata {kalimat2} terdapat {hitung} buah\")\n",
    "    \n",
    "\n",
    "jumalh_kata(\"Saya mau makan. Makan itu wajib. Mau siang atau malam saya wajib makan\", \"makan\")\n",
    "jumalh_kata(\"Saya mau makan. Makan itu wajib. Mau siang atau malam saya wajib makan\", \"pizza\")\n",
    "jumalh_kata(\"Saya mau makan pagi\", \"pagi\")\n",
    "jumalh_kata(\"Apa kabar? Saya mau makan, makan enak! Makan yuk!\", \"makan\")\n",
    "jumalh_kata(\"   Saya    mau makan. Makan itu wajib.   Mau siang    atau    malam saya wajib makan  \", \"makan\")"
   ]
  },
  {
   "cell_type": "code",
   "execution_count": 12,
   "id": "540afd93-004c-4472-9dbd-6c6c9f2512eb",
   "metadata": {},
   "outputs": [
    {
     "name": "stdout",
     "output_type": "stream",
     "text": [
      "saya tidak suka memancing ikan\n",
      "saya suka memancing ikan di danau\n"
     ]
    }
   ],
   "source": [
    "#SOAL 3\n",
    "import re\n",
    "def apus_spasi(kalimat):\n",
    "    a = re.sub(r'[^\\w\\s]', ' ', kalimat)\n",
    "    b = a.split()\n",
    "    hasil = ' '.join(b)\n",
    "\n",
    "    print(f\"{hasil}\")\n",
    "\n",
    "apus_spasi(\"saya tidak      suka memancing ikan \")\n",
    "apus_spasi(\"saya suka,  memancing   ikan  di   danau.    \")"
   ]
  },
  {
   "cell_type": "code",
   "execution_count": 14,
   "id": "cd475ba1-e7cc-4828-8e50-3ccf876c01c2",
   "metadata": {},
   "outputs": [
    {
     "name": "stdout",
     "output_type": "stream",
     "text": [
      "terpendek: a, terpanjang: snakes\n",
      "terpendek: a, terpanjang: merah\n",
      "terpendek: ini, terpanjang: adalah\n"
     ]
    }
   ],
   "source": [
    "#SOAL 4\n",
    "import re\n",
    "def pendek_panjang(kaimat):\n",
    "    a = re.sub(r'[^\\w\\s]', '', kaimat)\n",
    "    b = a.split()\n",
    "    \n",
    "    pendek = b[0]\n",
    "    panjang = b[0]\n",
    "\n",
    "    for i in b:\n",
    "        if len(i) < len(pendek):\n",
    "            pendek = i\n",
    "        if len(i) > len(panjang):\n",
    "            panjang = i\n",
    "\n",
    "    print(f\"terpendek: {pendek}, terpanjang: {panjang}\")\n",
    "\n",
    "pendek_panjang(\"red snakes and a black frog in the pool\" )\n",
    "pendek_panjang(\"merah ular dan a hitam katak di kolam\")\n",
    "pendek_panjang(\"  ini  adalah   uji    coba    \")"
   ]
  },
  {
   "cell_type": "code",
   "execution_count": 16,
   "id": "c2817250-a98e-40a2-b1cd-aaf96cc96ad6",
   "metadata": {},
   "outputs": [
    {
     "name": "stdin",
     "output_type": "stream",
     "text": [
      "Masukkan Tahun:   2025\n",
      "Masukkan Bulang:  4\n",
      "Masukkan Hari:  27\n"
     ]
    },
    {
     "name": "stdout",
     "output_type": "stream",
     "text": [
      "1945-08-17 00:00:00 selisih 29088 hari\n",
      "1785-11-11 00:00:00 selisih 87402 hari\n",
      "1783-06-08 00:00:00 selisih 88288 hari\n",
      "1889-05-02 00:00:00 selisih 49635 hari\n"
     ]
    }
   ],
   "source": [
    "#SOAL 5\n",
    "import re\n",
    "def tanggal(kaliamt):\n",
    "    x = re.findall(r'\\d+-\\d+-\\d+', kaliamt)\n",
    "    \n",
    "    tahun = int(input(\"Masukkan Tahun:  \"))\n",
    "    bulan = int(input(\"Masukkan Bulang: \"))\n",
    "    Tanggal = int(input(\"Masukkan Hari: \"))\n",
    "\n",
    "    semuabulan = [0, 31, 59, 90, 120, 151, 181, 212, 243, 273, 304, 334]\n",
    "\n",
    "    Total = tahun * 365 + semuabulan[bulan - 1] + Tanggal\n",
    "\n",
    "    hasil = []\n",
    "\n",
    "    for i in x:\n",
    "        pecah = i.split('-')\n",
    "        Tahun = int(pecah[0])\n",
    "        Bulan = int(pecah[1])\n",
    "        Hari = int(pecah[2])\n",
    "\n",
    "        hari_total = Tahun * 365 + semuabulan[Bulan - 1] + Hari\n",
    "        selisih = Total - hari_total\n",
    "\n",
    "        hasil.append(f\"{i} 00:00:00 selisih {selisih} hari\") \n",
    "    return hasil\n",
    "\n",
    "a = tanggal(\"Pada tanggal 1945-08-17 Indonesia merdeka. Indonesia memiliki beberapa pahlawan nasional, seperti Pangeran Diponegoro (TL: 1785-11-11), Pattimura (TL: 1783-06-08) dan Ki Hajar Dewantara (1889-05-02).\")\n",
    "\n",
    "for j in a:\n",
    "    print(j)"
   ]
  },
  {
   "cell_type": "code",
   "execution_count": 20,
   "id": "085fd731-a3d3-4036-aed3-f97c9ef66afa",
   "metadata": {},
   "outputs": [
    {
     "name": "stdout",
     "output_type": "stream",
     "text": [
      "anton@mail.com username: anton password: euHG7qWO\n",
      "budi@gmail.co.id username: budi password: pvxXDRfW\n",
      "slamet@getnada.com username: slamet password: qgWmdJtv\n",
      "matahari@tokopedia.com username: matahari password: IlEzJp1i\n"
     ]
    }
   ],
   "source": [
    "#SOAL 6\n",
    "import random\n",
    "def gmail(kalimat):\n",
    "    huruf_Besar = \"ABCDEFGHIJKLMNOPQRSTUVWXYZ\"\n",
    "    huruf_Kecil = \"abcdefghijklmnopqrstuvwxyz\"\n",
    "    angka = \"0123456789\"\n",
    "    semua_karakter = huruf_Besar + huruf_Kecil + angka\n",
    "\n",
    "    kalimat = kalimat.split(\" \")\n",
    "    hasil = []\n",
    "\n",
    "    for i in kalimat:\n",
    "        if \"@\" in i and \".\" in i:\n",
    "            email = i\n",
    "            username = email.split(\"@\")[0]\n",
    "\n",
    "            password = \"\"\n",
    "            for i in range(8):\n",
    "                password += random.choice(semua_karakter)\n",
    "\n",
    "            hasil.append(f\"{email} username: {username} password: {password}\")\n",
    "    return hasil\n",
    "\n",
    "a = gmail(\"anton@mail.com dimiliki oleh antonius budi@gmail.co.id dimiliki oleh budi anwari slamet@getnada.com dimiliki oleh slamet slumut matahari@tokopedia.com dimiliki oleh toko matahari\")\n",
    "\n",
    "for j in a:\n",
    "    print(j)"
   ]
  }
 ],
 "metadata": {
  "kernelspec": {
   "display_name": "Python [conda env:base] *",
   "language": "python",
   "name": "conda-base-py"
  },
  "language_info": {
   "codemirror_mode": {
    "name": "ipython",
    "version": 3
   },
   "file_extension": ".py",
   "mimetype": "text/x-python",
   "name": "python",
   "nbconvert_exporter": "python",
   "pygments_lexer": "ipython3",
   "version": "3.12.7"
  }
 },
 "nbformat": 4,
 "nbformat_minor": 5
}
