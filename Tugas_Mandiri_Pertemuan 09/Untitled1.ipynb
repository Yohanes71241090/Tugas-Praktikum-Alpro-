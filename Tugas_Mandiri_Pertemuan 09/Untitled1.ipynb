{
 "cells": [
  {
   "cell_type": "code",
   "execution_count": 4,
   "id": "555da2f6-0f80-4961-9d1b-d42e3f5dafd0",
   "metadata": {},
   "outputs": [
    {
     "name": "stdout",
     "output_type": "stream",
     "text": [
      "Anagram\n",
      "Anagram\n",
      "Bukan anagram\n",
      "Bukan anagram\n"
     ]
    }
   ],
   "source": [
    "# SOAL 1\n",
    "def anagram(kata, kata2):\n",
    "    x = kata.lower()\n",
    "    y = kata2.lower()\n",
    "\n",
    "    if sorted(x) == sorted(y):\n",
    "        print(\"Anagram\")\n",
    "    else:\n",
    "        print(\"Bukan anagram\")\n",
    "\n",
    "\n",
    "anagram(\"Rasuk\", \"Kasur\")\n",
    "anagram(\"Sapu\", \"Pusa\")\n",
    "anagram(\"sapu\", \"saput\")\n",
    "anagram(\"sapu\", \"saput\")"
   ]
  },
  {
   "cell_type": "code",
   "execution_count": 10,
   "id": "a9a6c283-fbea-4dc0-9cf1-084afed94e44",
   "metadata": {},
   "outputs": [
    {
     "name": "stdout",
     "output_type": "stream",
     "text": [
      "Kata makan terdapat 3 buah\n",
      "Kata pizza terdapat 0 buah\n",
      "Kata pagi terdapat 1 buah\n",
      "Kata makan terdapat 3 buah\n",
      "Kata makan terdapat 3 buah\n"
     ]
    }
   ],
   "source": [
    "#SOAL 2\n",
    "import re\n",
    "def jumalh_kata(kalimat, kalimat2):\n",
    "    x = kalimat.lower()\n",
    "    y = kalimat2.lower()\n",
    "    z = re.sub(r'[^\\w\\s]', '', x)\n",
    "    a = z.split()\n",
    "    hitung = a.count(y)\n",
    "\n",
    "    print(f\"Kata {kalimat2} terdapat {hitung} buah\")\n",
    "    \n",
    "\n",
    "jumalh_kata(\"Saya mau makan. Makan itu wajib. Mau siang atau malam saya wajib makan\", \"makan\")\n",
    "jumalh_kata(\"Saya mau makan. Makan itu wajib. Mau siang atau malam saya wajib makan\", \"pizza\")\n",
    "jumalh_kata(\"Saya mau makan pagi\", \"pagi\")\n",
    "jumalh_kata(\"Apa kabar? Saya mau makan, makan enak! Makan yuk!\", \"makan\")\n",
    "jumalh_kata(\"   Saya    mau makan. Makan itu wajib.   Mau siang    atau    malam saya wajib makan  \", \"makan\")"
   ]
  },
  {
   "cell_type": "code",
   "execution_count": 12,
   "id": "540afd93-004c-4472-9dbd-6c6c9f2512eb",
   "metadata": {},
   "outputs": [
    {
     "name": "stdout",
     "output_type": "stream",
     "text": [
      "saya tidak suka memancing ikan\n",
      "saya suka memancing ikan di danau\n"
     ]
    }
   ],
   "source": [
    "#SOAL 3\n",
    "import re\n",
    "def apus_spasi(kalimat):\n",
    "    a = re.sub(r'[^\\w\\s]', ' ', kalimat)\n",
    "    b = a.split()\n",
    "    hasil = ' '.join(b)\n",
    "\n",
    "    print(f\"{hasil}\")\n",
    "\n",
    "apus_spasi(\"saya tidak      suka memancing ikan \")\n",
    "apus_spasi(\"saya suka,  memancing   ikan  di   danau.    \")"
   ]
  },
  {
   "cell_type": "code",
   "execution_count": null,
   "id": "cd475ba1-e7cc-4828-8e50-3ccf876c01c2",
   "metadata": {},
   "outputs": [],
   "source": [
    "#SOAL 4\n",
    "import re\n",
    "def pendek_panjang(kaimat):\n",
    "    a = re.sub(r'[^\\w\\s]', '', kaimat)\n",
    "    b = a.split()\n",
    "    \n",
    "    pendek = b[0]\n",
    "    panjang = b[0]\n",
    "\n",
    "    for i in b:\n",
    "        if len(i) < len(pendek):\n",
    "            pendek = i\n",
    "        if len(i) > len(panjang):\n",
    "            panjang = i\n",
    "\n",
    "    print(f\"terpendek: {pendek}, terpanjang: {panjang}\")\n",
    "\n",
    "pendek_panjang(\"red snakes and a black frog in the pool\" )\n",
    "pendek_panjang(\"merah ular dan a hitam katak di kolam\")\n",
    "pendek_panjang(\"  ini  adalah   uji    coba    \")"
   ]
  }
 ],
 "metadata": {
  "kernelspec": {
   "display_name": "Python [conda env:base] *",
   "language": "python",
   "name": "conda-base-py"
  },
  "language_info": {
   "codemirror_mode": {
    "name": "ipython",
    "version": 3
   },
   "file_extension": ".py",
   "mimetype": "text/x-python",
   "name": "python",
   "nbconvert_exporter": "python",
   "pygments_lexer": "ipython3",
   "version": "3.12.7"
  }
 },
 "nbformat": 4,
 "nbformat_minor": 5
}
