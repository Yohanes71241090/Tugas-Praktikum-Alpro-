{
 "cells": [
  {
   "cell_type": "code",
   "execution_count": null,
   "id": "07177ff4-b719-4d21-aab7-ee1cd0075252",
   "metadata": {},
   "outputs": [],
   "source": [
    "#SOAL 1\n",
    "def perbedaan(file1, file2):\n",
    "    with open(file1, 'r') as f1:\n",
    "        line = f1.readlines()\n",
    "\n",
    "    with open(file2, 'r') as f2:\n",
    "        line2 = f2.readlines()\n",
    "\n",
    "    panjang = max(len(line), len(line2))\n",
    "    hasil = []\n",
    "\n",
    "    for i in range(panjang):\n",
    "        if i < len(line):\n",
    "            baris = line[i].strip()\n",
    "        else:\n",
    "            line = \"\"\n",
    "        if i < len(line2):\n",
    "            baris2 = line2[i].strip()\n",
    "        else:\n",
    "            line2 = \"\"\n",
    "        if baris != baris2:\n",
    "            beda += 1\n",
    "            hasil.append(f\"Beda dibaris ke-{i + 1}\")\n",
    "            hasil.append(f\" file1: {baris}\")\n",
    "            hasil.append(f\" file1: {baris2}\")\n",
    "    \n",
    "    for j in hasil:\n",
    "        print(j)\n",
    "\n",
    "perbedaan(\"Beda/file1.txt\", \"Beda/file2.txt\")"
   ]
  },
  {
   "cell_type": "code",
   "execution_count": null,
   "id": "f0d8cf94-0059-4946-a918-c8f14c387256",
   "metadata": {},
   "outputs": [],
   "source": [
    "#SOAL 2\n",
    "def jawaban(file1):\n",
    "    with open(file1, 'r') as file:\n",
    "        line = file.readlines()\n",
    "\n",
    "    for i in line:\n",
    "        i = i.strip().split(\"||\")\n",
    "        soal = i[0].strip()\n",
    "        kunci_jawaban = i[1].strip().lower()\n",
    "        \n",
    "        print(soal)\n",
    "        pengguna_menjawab = input(\"Jawab: \").strip().lower()\n",
    "\n",
    "        if pengguna_menjawab == kunci_jawaban:\n",
    "            print(\"Jawaban benar!\")\n",
    "        else:\n",
    "            print(\"Jawaban salah!\")\n",
    "        \n",
    "jawaban(\"Mencari Jawaban/soal.txt\")"
   ]
  }
 ],
 "metadata": {
  "kernelspec": {
   "display_name": "Python [conda env:base] *",
   "language": "python",
   "name": "conda-base-py"
  },
  "language_info": {
   "codemirror_mode": {
    "name": "ipython",
    "version": 3
   },
   "file_extension": ".py",
   "mimetype": "text/x-python",
   "name": "python",
   "nbconvert_exporter": "python",
   "pygments_lexer": "ipython3",
   "version": "3.12.7"
  }
 },
 "nbformat": 4,
 "nbformat_minor": 5
}
