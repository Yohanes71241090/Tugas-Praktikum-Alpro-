{
 "cells": [
  {
   "cell_type": "code",
   "execution_count": 4,
   "id": "0d3c1ec9-cc88-4d4b-9039-c30d6437313b",
   "metadata": {},
   "outputs": [
    {
     "name": "stdout",
     "output_type": "stream",
     "text": [
      "key  value   item\n",
      "1    10      1\n",
      "2    20      2\n",
      "3    30      3\n",
      "4    40      4\n",
      "5    50      5\n",
      "6    60      6\n"
     ]
    }
   ],
   "source": [
    "# SOAL 1\n",
    "def key_value_item(isi):\n",
    "    print(\"key  value   item\")\n",
    "    for key, value in isi.items():\n",
    "        print(f\"{key}    {value}      {key}\")\n",
    "\n",
    "key_value_item({1: 10, 2: 20, 3: 30, 4: 40, 5: 50, 6: 60})"
   ]
  },
  {
   "cell_type": "code",
   "execution_count": 6,
   "id": "f61cbca3-c47f-46ea-a608-f1d0583a4a34",
   "metadata": {},
   "outputs": [
    {
     "name": "stdout",
     "output_type": "stream",
     "text": [
      "{'red': '#FF0000', 'blue': '#0000FF', 'green': '#008000'}\n"
     ]
    }
   ],
   "source": [
    "#SOAL 2\n",
    "def satu_dict(list1, list2):\n",
    "    x = dict()\n",
    "    for i in range(len(list1)):\n",
    "        key = list1[i]\n",
    "        value = list2[i]\n",
    "        x[key] = value\n",
    "    \n",
    "    urutan_warna = {'green', 'blue', 'red'}\n",
    "    hasilnya = dict()\n",
    "    for j in urutan_warna:\n",
    "        hasilnya[j] = x[j]\n",
    "    \n",
    "    print(hasilnya)\n",
    "\n",
    "satu_dict(['red', 'green', 'blue'], ['#FF0000','#008000', '#0000FF'])"
   ]
  },
  {
   "cell_type": "code",
   "execution_count": null,
   "id": "cf98a429-0141-454f-9e97-689bd759a443",
   "metadata": {},
   "outputs": [],
   "source": [
    "#SOAL 3\n",
    "def baca_gmail(file1):\n",
    "    with open(file1, 'r') as file:\n",
    "        line = file.readlines()\n",
    "    \n",
    "    x = dict()\n",
    "    for i in line:\n",
    "        if i.startswith(\"From \"):\n",
    "            kata = i.split()\n",
    "            if len(kata) > 1:\n",
    "                x[kata[1]] = x.get(kata[1], 0) + 1\n",
    "    \n",
    "    print(x)\n",
    "\n",
    "baca_gmail(\"Mbox\\mbox-short.txt\")"
   ]
  },
  {
   "cell_type": "code",
   "execution_count": null,
   "id": "cbb35142-112b-43cc-ab37-6b966f7d37e5",
   "metadata": {},
   "outputs": [],
   "source": [
    "#SOAL 4\n",
    "def domain_pesan(file1):\n",
    "    with open(file1, 'r') as file:\n",
    "        line = file.readlines()\n",
    "    \n",
    "    x = dict()\n",
    "    for i in line:\n",
    "        if i.startswith(\"From\"):\n",
    "            kata = i.split()\n",
    "            if len(kata) > 1 and \"@\" in kata[1]:\n",
    "                y = kata[1]\n",
    "                pisah = y.split(\"@\")[1]\n",
    "                x[pisah] = x.get(pisah, 0) + 1\n",
    "    \n",
    "    print(x)\n",
    "    \n",
    "domain_pesan(\"Mbox\\mbox-short.txt\")"
   ]
  }
 ],
 "metadata": {
  "kernelspec": {
   "display_name": "Python [conda env:base] *",
   "language": "python",
   "name": "conda-base-py"
  },
  "language_info": {
   "codemirror_mode": {
    "name": "ipython",
    "version": 3
   },
   "file_extension": ".py",
   "mimetype": "text/x-python",
   "name": "python",
   "nbconvert_exporter": "python",
   "pygments_lexer": "ipython3",
   "version": "3.12.7"
  }
 },
 "nbformat": 4,
 "nbformat_minor": 5
}
