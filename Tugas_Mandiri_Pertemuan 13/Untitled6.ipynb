{
 "cells": [
  {
   "cell_type": "code",
   "execution_count": 1,
   "id": "eea9e227-fa8b-47c1-a84d-afb751762518",
   "metadata": {},
   "outputs": [
    {
     "name": "stdout",
     "output_type": "stream",
     "text": [
      "True\n",
      "True\n",
      "True\n",
      "False\n"
     ]
    }
   ],
   "source": [
    "#SOAL 1\n",
    "def ngecek_anggota(isi):\n",
    "    x = []\n",
    "    if len(isi) == 0:\n",
    "        return True\n",
    "    \n",
    "    for i in range(len(isi)):\n",
    "        x.append(isi[i])\n",
    "    \n",
    "    for j in range(len(x)):\n",
    "        if x[j] != x[0]:\n",
    "            return False\n",
    "    return True\n",
    "\n",
    "data = (90, 50, 60, 70)\n",
    "data2 = (90, 90, 90, 90)\n",
    "data3 = (100,)\n",
    "data4 = ()\n",
    "print(ngecek_anggota(data4))\n",
    "print(ngecek_anggota(data3))\n",
    "print(ngecek_anggota(data2))\n",
    "print(ngecek_anggota(data))"
   ]
  },
  {
   "cell_type": "code",
   "execution_count": 1,
   "id": "c061ea92-6e0b-4304-b3aa-bb38a6360687",
   "metadata": {},
   "outputs": [
    {
     "name": "stdout",
     "output_type": "stream",
     "text": [
      "('Yohanes Septiano', '71241090', 'Kota Karang, Bandar Lampung')\n",
      "\n",
      "NIM  : 71241090\n",
      "NAMA : Yohanes Septiano\n",
      "ALAMAT  : Kota Karang, Bandar Lampung\n",
      "\n",
      "NIM: ('7', '1', '2', '4', '1', '0', '9', '0')\n",
      "\n",
      "NAMA DEPAN: ('o', 'h', 'a', 'n', 'e', 's')\n",
      "\n",
      "NAMA TERBALIK: ['Septiano', 'Yohanes']\n"
     ]
    }
   ],
   "source": [
    "#SOAL 2\n",
    "def data_diri(data):\n",
    "    z = []\n",
    "    for j in str(data[0]).split():\n",
    "        z.append(j)\n",
    "    \n",
    "    z.reverse()\n",
    "    y = tuple(data[0])\n",
    "\n",
    "    print(f\"{data}\\n\")\n",
    "    print(f\"NIM  : {data[1]}\")\n",
    "    print(f\"NAMA : {data[0]}\")\n",
    "    print(f\"ALAMAT  : {data[2]}\\n\")\n",
    "    print(f\"NIM: {tuple(data[1])}\\n\")\n",
    "    print(f\"NAMA DEPAN: {y[1:7]}\\n\")\n",
    "    print(f\"NAMA TERBALIK: {z}\")\n",
    "\n",
    "informasi = ('Yohanes Septiano', '71241090', 'Kota Karang, Bandar Lampung')\n",
    "data_diri(informasi)"
   ]
  },
  {
   "cell_type": "code",
   "execution_count": 7,
   "id": "de94925a-cb4a-48e2-b479-7fd9e172e875",
   "metadata": {},
   "outputs": [
    {
     "name": "stdin",
     "output_type": "stream",
     "text": [
      "Masukkan nama file:  mbox-short.txt\n"
     ]
    },
    {
     "name": "stdout",
     "output_type": "stream",
     "text": [
      "04 3\n",
      "06 1\n",
      "07 1\n",
      "09 2\n",
      "10 3\n",
      "11 6\n",
      "14 1\n",
      "15 2\n",
      "16 4\n",
      "17 2\n",
      "18 1\n",
      "19 1\n"
     ]
    }
   ],
   "source": [
    "#SOAL 3\n",
    "def email_diterima():\n",
    "    nama_file = input(\"Masukkan nama file: \")\n",
    "    try:\n",
    "        lines = open(nama_file)\n",
    "    except:\n",
    "        print(f\"Tidak ada nama file {nama_file}\")\n",
    "        exit()\n",
    "\n",
    "    x = dict()\n",
    "\n",
    "    for i in lines:\n",
    "        if i.startswith(\"From \"):\n",
    "            pisah = i.split()\n",
    "            ambil = pisah[5]\n",
    "            ambil_jam = ambil.split(\":\")[0]\n",
    "            x[ambil_jam] = x.get(ambil_jam, 0) + 1\n",
    "    \n",
    "    for j in sorted(x):\n",
    "        print(j, x[j])\n",
    "\n",
    "email_diterima()"
   ]
  },
  {
   "cell_type": "code",
   "execution_count": null,
   "id": "a358d2ce-3949-4d98-b837-a2da6308c4d5",
   "metadata": {},
   "outputs": [],
   "source": []
  }
 ],
 "metadata": {
  "kernelspec": {
   "display_name": "Python [conda env:base] *",
   "language": "python",
   "name": "conda-base-py"
  },
  "language_info": {
   "codemirror_mode": {
    "name": "ipython",
    "version": 3
   },
   "file_extension": ".py",
   "mimetype": "text/x-python",
   "name": "python",
   "nbconvert_exporter": "python",
   "pygments_lexer": "ipython3",
   "version": "3.12.7"
  }
 },
 "nbformat": 4,
 "nbformat_minor": 5
}
