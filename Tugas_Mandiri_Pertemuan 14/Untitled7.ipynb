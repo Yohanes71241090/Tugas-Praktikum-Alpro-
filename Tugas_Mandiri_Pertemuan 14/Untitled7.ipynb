{
 "cells": [
  {
   "cell_type": "code",
   "execution_count": null,
   "id": "7268707c-6735-48e4-ad48-d39babe05852",
   "metadata": {},
   "outputs": [],
   "source": [
    "#SOAL 1\n",
    "def kemampuan_baru(kategori):\n",
    "    x = set()\n",
    "    for i in kategori:\n",
    "        x = x.union(i)\n",
    "    \n",
    "    jumlah_muncul = {}\n",
    "    for j in x:\n",
    "        jumlah = 0\n",
    "        for k in kategori:\n",
    "            if j in k:\n",
    "                jumlah += 1\n",
    "        jumlah_muncul[j] = jumlah\n",
    "    \n",
    "    print(\"Aplikasi yang muncul di satu kategori\")\n",
    "    for app in jumlah_muncul:\n",
    "        if jumlah_muncul[app] == 1:\n",
    "            print(f\"- {app}\")\n",
    "    \n",
    "    if len(kategori) > 2:\n",
    "        print(\"Aplikasi yang memiliki 2 kategori\")\n",
    "        for app in jumlah_muncul:\n",
    "            if jumlah_muncul[app] == 2:\n",
    "                print(f\"- {app}\")\n",
    "        \n",
    "game = {'LOL', 'COC', \"Grand Summoner\", 'Monster Hunter'}\n",
    "belajar = {'Duolingo', 'Ruangguru', 'Youtube'}\n",
    "hiburan = {'Grand Summoner', 'Youtube', 'Monster Hunter'}\n",
    "\n",
    "kategori = [game, belajar, hiburan]\n",
    "kemampuan_baru(kategori)"
   ]
  },
  {
   "cell_type": "code",
   "execution_count": null,
   "id": "367c6b87-d8de-4c6a-b8d2-5df454ee324d",
   "metadata": {},
   "outputs": [],
   "source": [
    "#SOAL 2\n",
    "def konversi_data():\n",
    "    data_list = ['Hai', 'Hallo', 'Hello', 'Holla']\n",
    "    print(data_list)\n",
    "    ubah_set = set(data_list)\n",
    "    print(f\"{ubah_set}\\n\")\n",
    "\n",
    "    data_set = {'Hai', 'Hallo', 'Hello', 'Holla'}\n",
    "    print(data_set)\n",
    "    ubah_list = list(data_set)\n",
    "    print(f\"{ubah_list}\\n\")\n",
    "\n",
    "    data_tuple = ('Hai', 'Hallo', 'Hello', 'Holla')\n",
    "    print(data_tuple)\n",
    "    ubah_set2 = set(data_tuple)\n",
    "    print(f\"{ubah_set2}\\n\")\n",
    "\n",
    "    data_set2 = {'Hai', 'Hallo', 'Hello', 'Holla'}\n",
    "    print(data_set2)\n",
    "    ubah_list2 = tuple(data_set2)\n",
    "    print(f\"{ubah_list2}\\n\")\n",
    "\n",
    "konversi_data()"
   ]
  },
  {
   "cell_type": "code",
   "execution_count": null,
   "id": "5a3d33f0-bf9c-499c-8b86-403a3d84fce0",
   "metadata": {},
   "outputs": [],
   "source": [
    "#SOAL 3\n",
    "def semua_kata():\n",
    "    try:\n",
    "        x = input(\"Masukkan nama file yang pertama: \")\n",
    "        y = input(\"Masukkan nama file yang kedua: \")\n",
    "\n",
    "        with open(x, 'r') as file1:\n",
    "            lines = file1.read().lower().split()\n",
    "        \n",
    "        with open(y, 'r') as file2:\n",
    "            lines2 = file2.read().lower().split()\n",
    "        \n",
    "        gabungan_kata = set(lines) | set(lines2)\n",
    "\n",
    "        for i in sorted(gabungan_kata):\n",
    "            print(f\"- {i}\")\n",
    "    \n",
    "    except FileNotFoundError:\n",
    "        print(\"File yang anda masukkan tidak dapat ditemukan. Masukkan nama file yang benar\")\n",
    "\n",
    "semua_kata()"
   ]
  }
 ],
 "metadata": {
  "kernelspec": {
   "display_name": "Python [conda env:base] *",
   "language": "python",
   "name": "conda-base-py"
  },
  "language_info": {
   "codemirror_mode": {
    "name": "ipython",
    "version": 3
   },
   "file_extension": ".py",
   "mimetype": "text/x-python",
   "name": "python",
   "nbconvert_exporter": "python",
   "pygments_lexer": "ipython3",
   "version": "3.12.7"
  }
 },
 "nbformat": 4,
 "nbformat_minor": 5
}
