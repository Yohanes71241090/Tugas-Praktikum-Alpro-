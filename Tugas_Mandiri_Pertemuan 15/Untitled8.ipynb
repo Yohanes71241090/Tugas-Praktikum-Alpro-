{
 "cells": [
  {
   "cell_type": "code",
   "execution_count": 1,
   "id": "794b2476-039f-47ac-a04c-b4ac6fa6a766",
   "metadata": {},
   "outputs": [
    {
     "name": "stdin",
     "output_type": "stream",
     "text": [
      "Masukkan angka:  97\n"
     ]
    },
    {
     "name": "stdout",
     "output_type": "stream",
     "text": [
      "Bilangan ini 97 merupakan bilangan Prima\n"
     ]
    }
   ],
   "source": [
    "# #SOAL 1\n",
    "def mengecek_prima(x, pembagi=2):\n",
    "    if x < 2:\n",
    "        return \"Bukan Prima\"\n",
    "    elif x == pembagi:\n",
    "        return \"Prima\"\n",
    "    elif x % pembagi == 0:\n",
    "        return \"Bukan Prima\"\n",
    "    else:\n",
    "        return mengecek_prima(x, pembagi + 1)\n",
    "    \n",
    "masukkan_angka = int(input(\"Masukkan angka: \"))\n",
    "hasil = mengecek_prima(masukkan_angka)\n",
    "print(f\"Bilangan ini {masukkan_angka} merupakan bilangan {hasil}\")"
   ]
  },
  {
   "cell_type": "code",
   "execution_count": 3,
   "id": "b9026ce9-8cbd-4755-82db-f50bda2b311c",
   "metadata": {},
   "outputs": [
    {
     "name": "stdout",
     "output_type": "stream",
     "text": [
      "Kata tersebut palindrome\n",
      "Kata tersebut palindrome\n",
      "Kata tersebut bukan palindrome\n",
      "Kata tersebut bukan palindrome\n"
     ]
    }
   ],
   "source": [
    "# #SOAL 2\n",
    "def check_palindrom(x):\n",
    "    hapus_spasi = ''.join(x.split()).lower()\n",
    "    \n",
    "    if len(hapus_spasi) <= 1:\n",
    "        return \"Kata tersebut palindrome\"\n",
    "    elif hapus_spasi[0] != hapus_spasi[-1]:\n",
    "        return \"Kata tersebut bukan palindrome\"\n",
    "    else:\n",
    "        return check_palindrom(x[1:-1])\n",
    "\n",
    "print(check_palindrom(\"Kasur ini rusak\"))\n",
    "print(check_palindrom(\"Ibu ratna antar ubi\"))\n",
    "print(check_palindrom(\"Hello\"))\n",
    "print(check_palindrom(\"Ini bukan palindrome\"))"
   ]
  },
  {
   "cell_type": "code",
   "execution_count": 5,
   "id": "884c6960-2a29-4fd9-ac28-1f1488dabc9e",
   "metadata": {},
   "outputs": [
    {
     "name": "stdout",
     "output_type": "stream",
     "text": [
      "25\n",
      "16\n",
      "1\n",
      "0\n",
      "36\n"
     ]
    }
   ],
   "source": [
    "#SOAL 3\n",
    "def hitung_deretGanjil(x):\n",
    "    if x == 1:\n",
    "        return 1\n",
    "    elif x < 1:\n",
    "        return 0\n",
    "    else:\n",
    "        return (2 * x - 1) + hitung_deretGanjil(x - 1)\n",
    "\n",
    "\n",
    "print(hitung_deretGanjil(5))\n",
    "print(hitung_deretGanjil(4))\n",
    "print(hitung_deretGanjil(1))\n",
    "print(hitung_deretGanjil(0))\n",
    "print(hitung_deretGanjil(6))"
   ]
  },
  {
   "cell_type": "code",
   "execution_count": 7,
   "id": "6ccbbed6-b678-4d9e-8a32-7aa4ccbff669",
   "metadata": {},
   "outputs": [
    {
     "name": "stdout",
     "output_type": "stream",
     "text": [
      "9\n",
      "9\n",
      "54\n",
      "1\n"
     ]
    }
   ],
   "source": [
    "#SOAL 4\n",
    "def jumlah_digit(x):\n",
    "    if x < 10:\n",
    "        return x\n",
    "    else:\n",
    "        return x % 10 + jumlah_digit(x//10)\n",
    "\n",
    "print(jumlah_digit(234))\n",
    "print(jumlah_digit(9))\n",
    "print(jumlah_digit(999999))\n",
    "print(jumlah_digit(10))"
   ]
  },
  {
   "cell_type": "code",
   "execution_count": 9,
   "id": "228152c7-ca73-4a8b-a638-b079dd10b07b",
   "metadata": {},
   "outputs": [
    {
     "name": "stdout",
     "output_type": "stream",
     "text": [
      "120\n",
      "1\n",
      "252\n",
      "184756\n",
      "3003\n"
     ]
    }
   ],
   "source": [
    "#SOAL 5\n",
    "def hitung_kombinasi(x, y):\n",
    "    if y == 0:\n",
    "        return 1\n",
    "    elif y == x: \n",
    "        return 1\n",
    "    else:\n",
    "        return hitung_kombinasi(x-1, y-1) + hitung_kombinasi(x-1,y)\n",
    "\n",
    "print(hitung_kombinasi(10, 3))\n",
    "print(hitung_kombinasi(6, 6))\n",
    "print(hitung_kombinasi(10, 5))\n",
    "print(hitung_kombinasi(20, 10))\n",
    "print(hitung_kombinasi(15, 5))"
   ]
  }
 ],
 "metadata": {
  "kernelspec": {
   "display_name": "Python [conda env:base] *",
   "language": "python",
   "name": "conda-base-py"
  },
  "language_info": {
   "codemirror_mode": {
    "name": "ipython",
    "version": 3
   },
   "file_extension": ".py",
   "mimetype": "text/x-python",
   "name": "python",
   "nbconvert_exporter": "python",
   "pygments_lexer": "ipython3",
   "version": "3.12.7"
  }
 },
 "nbformat": 4,
 "nbformat_minor": 5
}
