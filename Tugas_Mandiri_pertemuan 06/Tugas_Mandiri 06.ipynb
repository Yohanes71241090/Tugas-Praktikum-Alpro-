{
 "cells": [
  {
   "cell_type": "code",
   "execution_count": 79,
   "id": "f5155f48-809d-4082-82d3-1bae3c0a0204",
   "metadata": {},
   "outputs": [
    {
     "name": "stdout",
     "output_type": "stream",
     "text": [
      "6 x 5 = 5 + 5 + 5 + 5 + 5 + 5 = 30.\n"
     ]
    }
   ],
   "source": [
    "#SOAL 1\n",
    "\n",
    "def perkalian(a, b):\n",
    "    simbol = \"\"\n",
    "    for i in range(a):\n",
    "        if i > 0:\n",
    "            simbol += \" + \"\n",
    "        simbol += str(b)   \n",
    "    print(f\"{a} x {b} = {simbol} = {a * b}.\")\n",
    "    \n",
    "\n",
    "perkalian(6, 5)"
   ]
  },
  {
   "cell_type": "code",
   "execution_count": 147,
   "id": "4634e805-9148-4b6d-a181-eb4460144b24",
   "metadata": {},
   "outputs": [
    {
     "name": "stdin",
     "output_type": "stream",
     "text": [
      "Masukkan angka pada batas bawah/terkecil:  90\n",
      "Masukkan angka pada batas atas/terbesar:  50\n"
     ]
    },
    {
     "name": "stdout",
     "output_type": "stream",
     "text": [
      "bawah = 90, atas = 50. Karena bawah < atas, berarti dari kecil ke besar, maka hasilnya adalah: 89, 87, 85, 83, 81, 79, 77, 75, 73, 71, 69, 67, 65, 63, 61, 59, 57, 55, 53, 51.\n"
     ]
    }
   ],
   "source": [
    "#SOAL 2\n",
    "a = int(input(\"Masukkan angka pada batas bawah/terkecil: \"))\n",
    "b = int(input(\"Masukkan angka pada batas atas/terbesar: \"))\n",
    "\n",
    "def ganjil(a, b):\n",
    "    x = []\n",
    "    if a <= b:\n",
    "        print(f\"bawah = {a}, atas = {b}. Karena bawah < atas, berarti dari kecil ke besar, maka hasilnya adalah: \", end=\"\")\n",
    "        for i in range(a, b + 1):\n",
    "            if i % 2 == 1:\n",
    "                x.append(str(i))\n",
    "    else:\n",
    "        print(f\"bawah = {a}, atas = {b}. Karena bawah < atas, berarti dari kecil ke besar, maka hasilnya adalah: \", end=\"\")\n",
    "        for i in range(a, b - 1, -1):\n",
    "            if i % 2 == 1:\n",
    "                x.append(str(i))\n",
    "                \n",
    "    print(\", \".join(x) + \".\")    \n",
    "          \n",
    "ganjil(a, b)       "
   ]
  },
  {
   "cell_type": "code",
   "execution_count": 3,
   "id": "e2f097b0-3353-430a-85ed-8f7f5cc33042",
   "metadata": {},
   "outputs": [
    {
     "name": "stdin",
     "output_type": "stream",
     "text": [
      "Masukkan jumlah Mata Kuliah:  4\n",
      "Masukkan nilai MK 1:  A\n",
      "Masukkan nilai MK 2:  B\n",
      "Masukkan nilai MK 3:  C\n",
      "Masukkan nilai MK 4:  D\n"
     ]
    },
    {
     "name": "stdout",
     "output_type": "stream",
     "text": [
      "Nilai IPS anda semester ini 2.50\n"
     ]
    }
   ],
   "source": [
    "a = int(input(\"Masukkan jumlah Mata Kuliah: \"))\n",
    "\n",
    "def nilai_IPS(a):\n",
    "    A = 4\n",
    "    B = 3\n",
    "    C = 2\n",
    "    D = 1\n",
    "    bobot = 0\n",
    "    sks_per_matakuliah = 3\n",
    "    for i in range(1, a + 1):\n",
    "        I = input(f\"Masukkan nilai MK {i}: \")\n",
    "        if I == \"A\":\n",
    "            bobot += A * sks_per_matakuliah\n",
    "        elif I == \"B\":\n",
    "            bobot += B * sks_per_matakuliah\n",
    "        elif I == \"C\":\n",
    "            bobot += C * sks_per_matakuliah\n",
    "        elif I == \"D\":\n",
    "            bobot += D * sks_per_matakuliah\n",
    "        else:\n",
    "            print(\"Masukkan huruf (A, B, C, D)!!!\")\n",
    "            break\n",
    "\n",
    "    total_sks = a * sks_per_matakuliah\n",
    "    hasil_IPS = bobot / total_sks\n",
    "\n",
    "    print(f\"Nilai IPS anda semester ini {hasil_IPS:.2f}\")\n",
    "\n",
    "nilai_IPS(a)"
   ]
  },
  {
   "cell_type": "code",
   "execution_count": null,
   "id": "7d15c33e-d7a0-4d51-b767-24a74e1db998",
   "metadata": {},
   "outputs": [],
   "source": []
  }
 ],
 "metadata": {
  "kernelspec": {
   "display_name": "Python [conda env:base] *",
   "language": "python",
   "name": "conda-base-py"
  },
  "language_info": {
   "codemirror_mode": {
    "name": "ipython",
    "version": 3
   },
   "file_extension": ".py",
   "mimetype": "text/x-python",
   "name": "python",
   "nbconvert_exporter": "python",
   "pygments_lexer": "ipython3",
   "version": "3.12.7"
  }
 },
 "nbformat": 4,
 "nbformat_minor": 5
}
