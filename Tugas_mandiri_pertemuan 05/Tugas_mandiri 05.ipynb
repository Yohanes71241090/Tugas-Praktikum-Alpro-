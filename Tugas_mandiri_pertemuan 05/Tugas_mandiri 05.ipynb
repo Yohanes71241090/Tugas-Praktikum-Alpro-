{
 "cells": [
  {
   "cell_type": "code",
   "execution_count": 25,
   "id": "6c1ce130-c55d-4ee5-91b3-139561f2c228",
   "metadata": {},
   "outputs": [
    {
     "name": "stdin",
     "output_type": "stream",
     "text": [
      "Masukkan angka pertama:  -1\n",
      "Masukkan angka kedua:  -1\n",
      "Masukkan angka ketiga:  -2\n"
     ]
    },
    {
     "name": "stdout",
     "output_type": "stream",
     "text": [
      "bilangan -1, -1, -2 memiliki hasil = True\n"
     ]
    }
   ],
   "source": [
    "#SOAL 1\n",
    "a = int(input(\"Masukkan angka pertama: \")) \n",
    "b = int(input(\"Masukkan angka kedua: \")) \n",
    "c = int(input(\"Masukkan angka ketiga: \"))\n",
    "\n",
    "def cek_angka(a, b, c): \n",
    "    if a == b and a == c and b == c: \n",
    "        print(\"Masukkan angka yang berbeda!!!\")\n",
    "    elif a + b == c or a + c == b or b + c == a: \n",
    "        return True \n",
    "    else: \n",
    "        return False  \n",
    "     \n",
    "print(f\"bilangan {a}, {b}, {c} memiliki hasil = {cek_angka(a, b, c)}\") "
   ]
  },
  {
   "cell_type": "code",
   "execution_count": 35,
   "id": "57cd1816-34ed-4f4d-8b74-1c342fdce695",
   "metadata": {},
   "outputs": [
    {
     "name": "stdin",
     "output_type": "stream",
     "text": [
      "Masukkan nilai yang pertama:  1\n",
      "Masukkan nilai yang kedua:  2\n",
      "Masukkan nilai yang ketiga:  3\n"
     ]
    },
    {
     "name": "stdout",
     "output_type": "stream",
     "text": [
      "Bilangan (1, 2, 3) memiliki hasil = False\n"
     ]
    }
   ],
   "source": [
    "#SOAL 2\n",
    "a = int(input(\"Masukkan nilai yang pertama: \"))\n",
    "b = int(input(\"Masukkan nilai yang kedua: \"))\n",
    "c = int(input(\"Masukkan nilai yang ketiga: \"))\n",
    "\n",
    "def cek_digit_belakang(a, b, c):\n",
    "    A = a % 10\n",
    "    B = b % 10\n",
    "    C = c % 10\n",
    "    if A == B or A == C or B == C:\n",
    "        return True\n",
    "    else:\n",
    "        return False\n",
    "\n",
    "print(f\"Bilangan {a, b, c} memiliki hasil = {cek_digit_belakang(a, b, c)}\")"
   ]
  },
  {
   "cell_type": "code",
   "execution_count": 39,
   "id": "24c5b1bc-d712-48ab-8e38-86899764f445",
   "metadata": {},
   "outputs": [
    {
     "name": "stdin",
     "output_type": "stream",
     "text": [
      "Masukkan suhu ruangan dalam bentuk Celcius (c):  10\n",
      "Mau diubah ke fahrenheit (F) atau Reamur (R)? (F/R):  F\n"
     ]
    },
    {
     "name": "stdout",
     "output_type": "stream",
     "text": [
      "Celcius 10 ke Farenheit adalah 50.0°F \n"
     ]
    }
   ],
   "source": [
    "#SOAL 3\n",
    "C = int(input(\"Masukkan suhu ruangan dalam bentuk Celcius (c): \"))\n",
    "pilih = input(\"Mau diubah ke fahrenheit (F) atau Reamur (R)? (F/R): \")\n",
    "\n",
    "def konversi_suhu(C, pilih):\n",
    "        if pilih == \"F\":\n",
    "            F = (9/5) * C + 32\n",
    "            print(f\"Celcius {C} ke Farenheit adalah {F}°F \")\n",
    "        elif pilih == \"R\":\n",
    "            R = 0.8 * C\n",
    "            print(f\"Celcius {C} ke Reamur adalah {R}°R\")\n",
    "        else:\n",
    "            print(\"Tidak valid, pilih mau diubah ke fahrenheit (F) atau Reamur (R)!!!\")\n",
    "\n",
    "konversi_suhu(C, pilih)"
   ]
  }
 ],
 "metadata": {
  "kernelspec": {
   "display_name": "Python [conda env:base] *",
   "language": "python",
   "name": "conda-base-py"
  },
  "language_info": {
   "codemirror_mode": {
    "name": "ipython",
    "version": 3
   },
   "file_extension": ".py",
   "mimetype": "text/x-python",
   "name": "python",
   "nbconvert_exporter": "python",
   "pygments_lexer": "ipython3",
   "version": "3.12.7"
  }
 },
 "nbformat": 4,
 "nbformat_minor": 5
}
